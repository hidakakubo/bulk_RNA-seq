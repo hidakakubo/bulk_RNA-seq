{
 "cells": [
  {
   "cell_type": "code",
   "execution_count": null,
   "metadata": {},
   "outputs": [],
   "source": [
    "# パッケージのインポート\n",
    "import pandas as pd\n",
    "import os"
   ]
  },
  {
   "cell_type": "markdown",
   "metadata": {},
   "source": [
    "## DEG analysisで得られたDEGをリストアップし、csvで保存する"
   ]
  },
  {
   "cell_type": "code",
   "execution_count": null,
   "metadata": {},
   "outputs": [],
   "source": [
    "# DEG analysisのresultを読み込む\n",
    "df = pd.read_csv(f\"/Users/hidaka/Desktop/hoge/DEG_analysis/DESeq2_outputs/result.csv\", index_col=0)\n",
    "df.head()"
   ]
  },
  {
   "cell_type": "markdown",
   "metadata": {},
   "source": [
    "### 増加、減少に関わらず、発現が変動している遺伝子"
   ]
  },
  {
   "cell_type": "code",
   "execution_count": null,
   "metadata": {},
   "outputs": [],
   "source": [
    "# 発現が変動している遺伝子\n",
    "DEG = df.query(\"padj < 0.05\").index\n",
    "DEG"
   ]
  },
  {
   "cell_type": "code",
   "execution_count": null,
   "metadata": {},
   "outputs": [],
   "source": [
    "# csvで保存\n",
    "pd.Series(DEG).to_csv(f\"/Users/hidaka/Desktop/hoge/Enrichment/data/DEG.csv\", index=False)"
   ]
  },
  {
   "cell_type": "markdown",
   "metadata": {},
   "source": [
    "### 発現が有意に増加している遺伝子"
   ]
  },
  {
   "cell_type": "code",
   "execution_count": null,
   "metadata": {},
   "outputs": [],
   "source": [
    "# 発現が有意に増加している遺伝子\n",
    "DEG = df.query(\"padj < 0.05 & log2FoldChange > 0\").index\n",
    "DEG"
   ]
  },
  {
   "cell_type": "code",
   "execution_count": null,
   "metadata": {},
   "outputs": [],
   "source": [
    "# csvで保存\n",
    "pd.Series(DEG).to_csv(f\"/Users/hidaka/Desktop/hoge/Enrichment/data/DEG+.csv\", index=False)"
   ]
  },
  {
   "cell_type": "markdown",
   "metadata": {},
   "source": [
    "### 発現が有意に減少している遺伝子"
   ]
  },
  {
   "cell_type": "code",
   "execution_count": null,
   "metadata": {},
   "outputs": [],
   "source": [
    "# 発現が有意に減少している遺伝子\n",
    "DEG = df.query(\"padj < 0.05 & log2FoldChange < 0\").index\n",
    "DEG"
   ]
  },
  {
   "cell_type": "code",
   "execution_count": null,
   "metadata": {},
   "outputs": [],
   "source": [
    "# csvで保存\n",
    "pd.Series(DEG).to_csv(f\"/Users/hidaka/Desktop/hoge/Enrichment/data/DEG-.csv\", index=False)"
   ]
  }
 ],
 "metadata": {
  "language_info": {
   "name": "python"
  },
  "orig_nbformat": 4
 },
 "nbformat": 4,
 "nbformat_minor": 2
}
